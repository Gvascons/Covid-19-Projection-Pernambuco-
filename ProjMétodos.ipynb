{
  "nbformat": 4,
  "nbformat_minor": 0,
  "metadata": {
    "colab": {
      "name": "ProjMétodos",
      "provenance": [],
      "collapsed_sections": []
    },
    "kernelspec": {
      "name": "python3",
      "display_name": "Python 3"
    }
  },
  "cells": [
    {
      "cell_type": "markdown",
      "metadata": {
        "id": "ONj3iW336RJv"
      },
      "source": [
        "# ***Projeto de Métodos Numéricos*** - A Progressão Do Covid-19 em Pernambuco\n",
        "### **Aluno:** *João Gabriel de Araújo Vasconcelos*\n",
        "\n"
      ]
    },
    {
      "cell_type": "markdown",
      "metadata": {
        "id": "uN4yfIHy8KRH"
      },
      "source": [
        "Para feitura do projeto, dispomos da utilização do modelo *SIR* (Suscetiveis, Infectados e Recuperados), a fim de embasar o comportamento da curva de infectados em relação à inclusão de novas semanas epidemológicas, analisando como o *isolamento social* interfere no comportamento da evoução desta curva. O intuito da pesquisa em questão é apresentar uma previsão que se aproxime do cenário real e que, com resultados práticos, possa previsionar possíveis medidas a serem tomadas com o potencial de mitigar o agravamento epidêmico."
      ]
    },
    {
      "cell_type": "markdown",
      "metadata": {
        "id": "BMQUJAT29trt"
      },
      "source": [
        "É importante ressaltar que o modelo *SIR* utilizado deve conter potenciais variações com a finalidade de adequar os resultados ao Estado de Pernambuco."
      ]
    },
    {
      "cell_type": "markdown",
      "metadata": {
        "id": "9BEUs7gWCfWE"
      },
      "source": [
        "---"
      ]
    },
    {
      "cell_type": "markdown",
      "metadata": {
        "id": "wNGfQaGivqvy"
      },
      "source": [
        "###Análise"
      ]
    },
    {
      "cell_type": "markdown",
      "metadata": {
        "id": "OyS4hRKY_J8F"
      },
      "source": [
        "Quanto ao Modelo *SIR* empregado no Projeto:\n",
        "\n",
        "Pelo modelo SIR (Suscetível, Infectado e Recuperado), desenvolvido por Kermack e McKendrick em 1927, consideramos a análise de uma população fixada em *N* indivíduos que, divídida em 3 \"compartimentos\", deve variar ao longo do tempo a medida que a epidemia evolui. Dentre tais compartimento, *S(t)* refere-se aos indivíduos Suscetíveis ao vírus, *I(t)* refere-se aos indivíduos Infectados pelo vírus, e *R(t)* refere-se aos indivíduos recuperados pelo mesmo (visto que as pesquisas referentes a possíveis mutações do vírus e a casos isolados de reinfecção ainda são muito primordiais, o \"compartimento\" de recuperados deve inferir a impossibilidade de reinfecção por pacientes já recuperados). "
      ]
    },
    {
      "cell_type": "markdown",
      "metadata": {
        "id": "c_W2BpCpBq9H"
      },
      "source": [
        "Nas equações nas quais utilizaremos os dados previamente citados, devemos incluir a análise de *2* parâmetros que constituirão a composição de cada compartimento:"
      ]
    },
    {
      "cell_type": "markdown",
      "metadata": {
        "id": "ysHrD1CVDSyl"
      },
      "source": [
        ">.β - Descreve a taxa efetiva de contato ao vírus; Um paciente infectado deve entrar em contato com βN outros pacientes por unidade de tempo, sendo a fração suscetível a contrair a doença *S/N*.\n"
      ]
    },
    {
      "cell_type": "markdown",
      "metadata": {
        "id": "UCxju5Y0DeWj"
      },
      "source": [
        ">.γ - Descreve a taxa média de recuperação dos pacientes; Logo, *1/*γ descreve o período médio tempo que um único indivíduo pode transmitir o vírus."
      ]
    },
    {
      "cell_type": "markdown",
      "metadata": {
        "id": "ISt4nPzcD5w9"
      },
      "source": [
        "Temos o modelo descrito em 3 Equações Diferenciais:"
      ]
    },
    {
      "cell_type": "markdown",
      "metadata": {
        "id": "mbktOMovEHR7"
      },
      "source": [
        "\\begin{align}\n",
        "\\frac{{\\rm d}S}{{\\rm d}t} & = -\\beta S I / N\\\\\n",
        "\\frac{{\\rm d}I}{{\\rm d}t} & = \\beta S I / N - \\gamma I\\\\\n",
        "\\frac{{\\rm d}R}{{\\rm d}t} & = \\gamma I\\\\\n",
        "\\end{align}"
      ]
    },
    {
      "cell_type": "markdown",
      "metadata": {
        "id": "dPeRW9cUGhOz"
      },
      "source": [
        "Desenvolvemos nossas previsões com base nos seguintes *Dados* (relativos à PE):"
      ]
    },
    {
      "cell_type": "markdown",
      "metadata": {
        "id": "RpG0AnzBIFFn"
      },
      "source": [
        "* Número de Habitantes (*N*) : *9.616.621 Indivíduos*\n",
        "* Número Atual de Infectados (*Io*) : *143.703 Infectados*\n",
        "* Número Atual de Recuperados (*Ro*) : *118.570 Recuperados*\n",
        "* Número Atual de Óbitos (*Oo*) : *8.110 Óbitos*\n",
        "* Taxa de Contato ao Vírus (β) : *0,58*\n",
        "* Taxa Média de Recuperação (γ) : *(1 / 5,1)* + *k*\n",
        "* Taxa de Mortalidade Estipulada (*M*) : *(Oo / Io)* **≅** *0,0564358434*"
      ]
    },
    {
      "cell_type": "markdown",
      "metadata": {
        "id": "cnF3vw_IsEFz"
      },
      "source": [
        "Inserimos no nosso modelo alguns parâmetros complementares ao método primitivo SIR, a fim de tornar a análise mais fiel ao quadro real, além de analisar a efetividade específica do isolamento social como elemento remediador da  epidemia:"
      ]
    },
    {
      "cell_type": "markdown",
      "metadata": {
        "id": "K8zV5vCStdjz"
      },
      "source": [
        ">Consideramos um potêncial Período de Infecção (*P*) de 6 dias dentre a detecção do vírus em um indivíduo e sua disposição em um quadro de isolamento.\n",
        "\n"
      ]
    },
    {
      "cell_type": "markdown",
      "metadata": {
        "id": "jU26KoUJwdu5"
      },
      "source": [
        "Logo, como sabemos que *1/γ* descreve o período que um indivíduo pode transmitir o vírus, temos : *1/γ* = 6 ; *γ* = 1/6 ≅ 0.166"
      ]
    },
    {
      "cell_type": "markdown",
      "metadata": {
        "id": "fr49-JOZx-vZ"
      },
      "source": [
        "Embasamos nosso estudo em uma variável complemetar *A* ( podendo variar de 0.0 a 2.0), que irá representar a instanciação do isolamento social durante a evolução epidêmica, o que nos provê as seguintes equações, além de também considerar a análise dos Óbitos provenientes da pandemia."
      ]
    },
    {
      "cell_type": "markdown",
      "metadata": {
        "id": "6IrH-c-ZGw1S"
      },
      "source": [
        "A = 0.0 Indica uma condição a qual não há Isolamento Social"
      ]
    },
    {
      "cell_type": "markdown",
      "metadata": {
        "id": "LrkRTDqdystn"
      },
      "source": [
        "\\begin{align}\n",
        "\\frac{{\\rm d}S}{{\\rm d}t} & = -(\\beta S I )(1 - A)/ N\\\\\n",
        "\\frac{{\\rm d}I}{{\\rm d}t} & = (\\beta S I)(1 - A)/ N - \\gamma I\\ + M I\\\\\n",
        "\\frac{{\\rm d}R}{{\\rm d}t} & = \\gamma I\\\\\n",
        "\\frac{{\\rm d}O}{{\\rm d}t} & = M I\\\\\n",
        "\\end{align}"
      ]
    },
    {
      "cell_type": "markdown",
      "metadata": {
        "id": "pgwkSVriI5GC"
      },
      "source": [
        "###PONDERAÇÕES:\n",
        "\n"
      ]
    },
    {
      "cell_type": "markdown",
      "metadata": {
        "id": "dpzE53WKKFki"
      },
      "source": [
        "O Modelo em estudo trabalha com dados providos por fontes tais como o Instituto Brasileiro de Geografia e Estatística (IBGE), o Ministério da Saúde, entre outras que serão mencionadas em uma sessão separada."
      ]
    },
    {
      "cell_type": "markdown",
      "metadata": {
        "id": "lwQ9mpB8ESP5"
      },
      "source": [
        "Analisamos os casos, primeiramente, desconsiderando a existência de isolamento social como medida remediadora (em um período de 3 meses)."
      ]
    },
    {
      "cell_type": "code",
      "metadata": {
        "id": "i9s1e5ERCkhc",
        "outputId": "5d1c4ebf-74ed-4a2c-a72a-dd163e4cb982",
        "colab": {
          "base_uri": "https://localhost:8080/",
          "height": 280
        }
      },
      "source": [
        "import numpy as np\n",
        "from scipy.integrate import odeint\n",
        "import matplotlib.pyplot as plt\n",
        "\n",
        "A = 0.00\n",
        "\n",
        "N = 9616621\n",
        "P = 6\n",
        "M = 0.0564358434\n",
        "\n",
        "gamma = 1/P\n",
        "beta = 0.58\n",
        "R0 = beta/gamma\n",
        "\n",
        "i0, r0, o0 = 1, 0, 0\n",
        "s0 = N - i0 - r0\n",
        "x0 = [s0, i0, r0, o0]\n",
        "\n",
        "def projecao(x,t):\n",
        "    s, i, r, o = x\n",
        "    dx = np.zeros(4)\n",
        "    dx[0] = -(beta*s*i*(1 - A))/N\n",
        "    dx[1] = (beta*s*i*(1 - A))/N - gamma*i + M*i\n",
        "    dx[2] = gamma*i\n",
        "    dx[3] = M*i\n",
        "    return dx\n",
        "\n",
        "t = np.linspace(0, 90, 90)\n",
        "x = odeint(projecao, x0, t)\n",
        "s, i, r, o = x[:,0], x[:,1], x[:,2], x[:,3] \n",
        "\n",
        "fig = plt.figure(facecolor='w')\n",
        "ax = fig.add_subplot(111, facecolor='#dddddd', axisbelow=True)\n",
        "ax.plot(t, s/N, 'blue', alpha=0.4, lw=2, label='Suscetíveis')\n",
        "ax.plot(t, i/N, 'red', alpha=0.4, lw=2, label='Infectados')\n",
        "ax.plot(t, r/N, 'green', alpha=0.4, lw=2, label='Recuperados')\n",
        "ax.plot(t, o/N, 'black', alpha=0.4, lw=2, label='Óbitos')\n",
        "ax.set_xlabel('Dias')\n",
        "ax.set_ylabel('A cada 1000 Indivíduos')\n",
        "ax.set_ylim(0,1.6)\n",
        "ax.yaxis.set_tick_params(length = 0)\n",
        "ax.xaxis.set_tick_params(length = 0)\n",
        "ax.grid(b=True, which='major', c='w', lw=2, ls='-')\n",
        "legend = ax.legend()\n",
        "legend.get_frame().set_alpha(0.5)\n",
        "for spine in ('top', 'right', 'bottom', 'left'):\n",
        "    ax.spines[spine].set_visible(False)\n",
        "plt.savefig('sir.pdf')\n",
        "plt.show()"
      ],
      "execution_count": 12,
      "outputs": [
        {
          "output_type": "display_data",
          "data": {
            "image/png": "[encoded data removed]",
            "text/plain": [
              "<Figure size 432x288 with 1 Axes>"
            ]
          },
          "metadata": {
            "tags": []
          }
        }
      ]
    },
    {
      "cell_type": "markdown",
      "metadata": {
        "id": "e3eCtBuGEs3c"
      },
      "source": [
        "Analisamos agora considerando a existência de isolamento social como medida remediadora (em um período de 3 meses)."
      ]
    },
    {
      "cell_type": "code",
      "metadata": {
        "id": "BWb5fCNuEx9i",
        "outputId": "cd0b2d4f-17d0-46b6-eaab-b2e3f09c6111",
        "colab": {
          "base_uri": "https://localhost:8080/",
          "height": 280
        }
      },
      "source": [
        "import numpy as np\n",
        "from scipy.integrate import odeint\n",
        "import matplotlib.pyplot as plt\n",
        "\n",
        "A = 0.22\n",
        "\n",
        "N = 9616621\n",
        "P = 6\n",
        "M = 0.0564358434\n",
        "\n",
        "gamma = 1/P\n",
        "beta = 0.58\n",
        "R0 = beta/gamma\n",
        "\n",
        "i0, r0, o0 = 1, 0, 0\n",
        "s0 = N - i0  -r0\n",
        "x0 = [s0, i0, r0, o0]\n",
        "\n",
        "def projecao(x,t):\n",
        "    s, i, r, o = x\n",
        "    dx = np.zeros(4)\n",
        "    dx[0] = -(beta*s*i*(1 - A))/N\n",
        "    dx[1] = (beta*s*i*(1 - A))/N - gamma*i + M*i\n",
        "    dx[2] = gamma*i\n",
        "    dx[3] = M*i\n",
        "    return dx\n",
        "\n",
        "t = np.linspace(0, 90, 90)\n",
        "x = odeint(projecao, x0, t)\n",
        "s, i, r, o = x[:,0], x[:,1], x[:,2], x[:,3]\n",
        "\n",
        "fig = plt.figure(facecolor='w')\n",
        "ax = fig.add_subplot(111, facecolor='#dddddd', axisbelow=True)\n",
        "ax.plot(t, s/N, 'blue', alpha=0.4, lw=2, label='Suscetíveis')\n",
        "ax.plot(t, i/N, 'red', alpha=0.4, lw=2, label='Infectados')\n",
        "ax.plot(t, r/N, 'green', alpha=0.4, lw=2, label='Recuperados')\n",
        "ax.plot(t, o/N, 'black', alpha=0.4, lw=2, label='Óbitos')\n",
        "ax.set_xlabel('Dias')\n",
        "ax.set_ylabel('A cada 1000 Indivíduos')\n",
        "ax.set_ylim(0,1.6)\n",
        "ax.yaxis.set_tick_params(length = 0)\n",
        "ax.xaxis.set_tick_params(length = 0)\n",
        "ax.grid(b=True, which='major', c='w', lw=2, ls='-')\n",
        "legend = ax.legend()\n",
        "legend.get_frame().set_alpha(0.5)\n",
        "for spine in ('top', 'right', 'bottom', 'left'):\n",
        "    ax.spines[spine].set_visible(False)\n",
        "plt.savefig('sir.pdf')\n",
        "plt.show()"
      ],
      "execution_count": 13,
      "outputs": [
        {
          "output_type": "display_data",
          "data": {
            "image/png": "[encoded data removed]",
            "text/plain": [
              "<Figure size 432x288 with 1 Axes>"
            ]
          },
          "metadata": {
            "tags": []
          }
        }
      ]
    },
    {
      "cell_type": "markdown",
      "metadata": {
        "id": "B_WV39c8vOtg"
      },
      "source": [
        ""
      ]
    },
    {
      "cell_type": "markdown",
      "metadata": {
        "id": "nhBgim8Nv1pS"
      },
      "source": [
        "###Considerações"
      ]
    },
    {
      "cell_type": "markdown",
      "metadata": {
        "id": "RLWKUKuewYGH"
      },
      "source": [
        "Dessarte, percebemos que, com a instutuição do isolamento social (contingente de medidas como a realização de eventos virtuais em prol de eventos presenciais), houve um retardo de aproximadamente 10 dias, em um universo de 3 meses (o que corresponde a *11,1%*), em relação ao aumento da curva de infectados na região, o que corresponderia há um maior intevalo de tempo no qual poderiam ser instituídas novas medidas com o intuito de mitigar a evolução da epidemia. Além disso, é vista uma diminuição no número esperado de mortos após os 3 meses analisados ( correspondente à assíntota horizontal da *curva preta* - óbitos), em decorrência da redução em 0.1 do número de infectados a cada 1000 habitantes no último período."
      ]
    },
    {
      "cell_type": "markdown",
      "metadata": {
        "id": "g3Ya2CTMyWZV"
      },
      "source": [
        "###Fontes"
      ]
    },
    {
      "cell_type": "markdown",
      "metadata": {
        "id": "_XyoELeqzaTO"
      },
      "source": [
        "- https://g1.globo.com/pe/pernambuco/noticia/2020/10/18/pernambuco-tem-156029-casos-da-covid-19-e-8487-mortes-depois-de-registrar-mais-106-infectados-e-7-obitos.ghtml\n",
        "- http://www.enf.ufmg.br/images/28.03-Previsoes-de-infecccao-pelo-COVID-19.pdf.pdf\n",
        "- https://www.medrxiv.org/content/10.1101/2020.05.15.20103077v1.full.pdf\n",
        "- https://www.ibge.gov.br/\n",
        "- https://www.gov.br/saude/pt-br\n",
        "- https://www2.ufrb.edu.br/bcet/components/com_chronoforms5/chronoforms/uploads/tcc/20190604222258_2017.2__TCC_Fellipe_Souza_-_Transformadas_de_Laplace_em_Circuitos_Eltricos_Rlc.pdf\n",
        "- https://www.scielo.br/scielo.php?pid=S1806-11172012000200016&script=sci_arttext#:~:text=A%20transformada%20de%20Laplace%20e,nas%20ci%C3%AAncias%20exatas%20e%20engenharias.&text=Nessas%20aplica%C3%A7%C3%B5es%20costuma%2Dse%20interpret%C3%A1,para%20o%20dom%C3%ADnio%20de%20frequ%C3%AAncias.\n",
        "- https://www.ufrgs.br/reamat/TransformadasIntegrais/livro-tl/tdl-dexfb01nix00e7x00e3o_de_transformada_de_laplace.html\n",
        "- «Des Fonctions génératrices» [On generating functions], ThéorieanalytiquedesProbabilités [Analytical Probability Theory] (em francês)2nd ed., Paris,1814,chap.I sect.2-20\n",
        "-\n",
        "a b c SAUTER, Esequia; AZEVEDO, Fábio; STRAUCH, Irene (15 de maio de\n",
        "2019). «REAMAT - Transformada de Laplace» (PDF). Universidade Federal\n",
        "do Rio Grande do Sul. Consultado em 20 de dezembro de 2019\n",
        "- ↑ 18-, Williams, John, 1922 April (1973). Laplace transforms. London: Allen &\n",
        "Unwin. ISBN 004512020X. OCLC 3091374\n",
        "- ↑ K.F. Riley, M.P. Hobson, S.J. Bence (2010), Mathematical methods for\n",
        "physics and engineering, ISBN 978-0-521-86153-3 3rd ed. , Cambridge\n",
        "University Press, p. 455\n",
        "- ↑ J.J.Distefano, A.R. Stubberud, I.J. Williams (1995), Feedback systems and\n",
        "control, ISBN 0-07-017052-5 2nd ed. , Schaum's outlines, p. 78\n",
        "- ↑ Mathematical Handbook of Formulas and Tables (3rd edition), S. Lipschutz,\n",
        "M.R. Spiegel, J. Liu, Schuam's Outline Series, p.183, 2009, ISBN\n",
        "978-0-07-154855-7 - provides the case for real q.\n",
        "- ↑ - Wolfram Mathword provides case for complex q\n",
        "- ↑ http://www.spectrum-soft.com/index.shtm\n",
        "- ↑ Circuitos Elétricos - 8ª Ed., Notas de estudo de Circuitos Elétricos ...\n",
        "Brasileira do Livro, SP, Brasil) Nilsson, James W. Circuitos elétricos\n",
        "- ↑ «Aplicação: cálculo da deexão em vigas sujeitas a cargas concentradas».\n",
        "www.ufrgs.br. Consultado em 6 de julho de 2019"
      ]
    },
    {
      "cell_type": "code",
      "metadata": {
        "id": "0AF-bb3G4Ssd"
      },
      "source": [
        ""
      ],
      "execution_count": null,
      "outputs": []
    }
  ]
}